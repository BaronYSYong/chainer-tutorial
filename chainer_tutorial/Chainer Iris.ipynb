{
 "cells": [
  {
   "cell_type": "code",
   "execution_count": 1,
   "metadata": {
    "collapsed": true
   },
   "outputs": [],
   "source": [
    "import chainer\n",
    "import chainer.functions as F\n",
    "import chainer.links as L\n",
    "from chainer import training, datasets, iterators, optimizers, serializers\n",
    "from chainer import Chain\n",
    "from chainer.training import extensions\n",
    "import numpy as np\n",
    "from sklearn.datasets import load_iris"
   ]
  },
  {
   "cell_type": "code",
   "execution_count": 2,
   "metadata": {
    "collapsed": false
   },
   "outputs": [
    {
     "data": {
      "text/plain": [
       "array([[ 5.0999999 ,  3.5       ,  1.39999998,  0.2       ],\n",
       "       [ 4.9000001 ,  3.        ,  1.39999998,  0.2       ],\n",
       "       [ 4.69999981,  3.20000005,  1.29999995,  0.2       ],\n",
       "       [ 4.5999999 ,  3.0999999 ,  1.5       ,  0.2       ],\n",
       "       [ 5.        ,  3.5999999 ,  1.39999998,  0.2       ]], dtype=float32)"
      ]
     },
     "execution_count": 2,
     "metadata": {},
     "output_type": "execute_result"
    }
   ],
   "source": [
    "iris = load_iris()\n",
    "X = iris.data\n",
    "X = X.astype(np.float32)\n",
    "X[0:5]"
   ]
  },
  {
   "cell_type": "code",
   "execution_count": 3,
   "metadata": {
    "collapsed": false
   },
   "outputs": [
    {
     "data": {
      "text/plain": [
       "array([0, 0, 0, 0, 0, 0, 0, 0, 0, 0, 0, 0, 0, 0, 0, 0, 0, 0, 0, 0, 0, 0, 0,\n",
       "       0, 0, 0, 0, 0, 0, 0, 0, 0, 0, 0, 0, 0, 0, 0, 0, 0, 0, 0, 0, 0, 0, 0,\n",
       "       0, 0, 0, 0, 1, 1, 1, 1, 1, 1, 1, 1, 1, 1, 1, 1, 1, 1, 1, 1, 1, 1, 1,\n",
       "       1, 1, 1, 1, 1, 1, 1, 1, 1, 1, 1, 1, 1, 1, 1, 1, 1, 1, 1, 1, 1, 1, 1,\n",
       "       1, 1, 1, 1, 1, 1, 1, 1, 2, 2, 2, 2, 2, 2, 2, 2, 2, 2, 2, 2, 2, 2, 2,\n",
       "       2, 2, 2, 2, 2, 2, 2, 2, 2, 2, 2, 2, 2, 2, 2, 2, 2, 2, 2, 2, 2, 2, 2,\n",
       "       2, 2, 2, 2, 2, 2, 2, 2, 2, 2, 2, 2], dtype=int32)"
      ]
     },
     "execution_count": 3,
     "metadata": {},
     "output_type": "execute_result"
    }
   ],
   "source": [
    "Y = iris.target\n",
    "Y = Y.flatten().astype(np.int32)\n",
    "Y"
   ]
  },
  {
   "cell_type": "code",
   "execution_count": 4,
   "metadata": {
    "collapsed": false
   },
   "outputs": [],
   "source": [
    "train, test = datasets.split_dataset_random(chainer.datasets.TupleDataset(X,Y),100)\n",
    "train_iter = iterators.SerialIterator(train, batch_size=10)\n",
    "test_iter = iterators.SerialIterator(test, batch_size=1, repeat=False, shuffle=False)"
   ]
  },
  {
   "cell_type": "code",
   "execution_count": 5,
   "metadata": {
    "collapsed": false
   },
   "outputs": [],
   "source": [
    "class IrisModel(chainer.Chain):\n",
    "    def __init__(self, n_units, n_out):\n",
    "        super(IrisModel,self).__init__(\n",
    "            l1=L.Linear(None, n_units),\n",
    "            l2=L.Linear(None, n_units),\n",
    "            l3=L.Linear(None, n_out)\n",
    "        )\n",
    "    def __call__(self,x):\n",
    "        h1 = F.relu(self.l1(x))\n",
    "        h2 = F.relu(self.l2(h1))\n",
    "        y = self.l3(h2)\n",
    "        return y"
   ]
  },
  {
   "cell_type": "code",
   "execution_count": 6,
   "metadata": {
    "collapsed": true
   },
   "outputs": [],
   "source": [
    "model = L.Classifier(IrisModel(100,3))\n",
    "optimizer = optimizers.Adam()\n",
    "optimizer.setup(model)"
   ]
  },
  {
   "cell_type": "code",
   "execution_count": 7,
   "metadata": {
    "collapsed": true
   },
   "outputs": [],
   "source": [
    "updater = training.StandardUpdater(train_iter, optimizer, device=-1)\n",
    "trainer = training.Trainer(updater, (30, 'epoch'), out='result')\n",
    "trainer.extend(extensions.Evaluator(test_iter, model, device=-1))\n",
    "trainer.extend(extensions.LogReport())\n",
    "trainer.extend(extensions.PrintReport(['epoch', 'main/loss', 'validation/main/loss', 'main/accuracy', 'validation/main/accuracy']))"
   ]
  },
  {
   "cell_type": "code",
   "execution_count": 8,
   "metadata": {
    "collapsed": false
   },
   "outputs": [
    {
     "name": "stdout",
     "output_type": "stream",
     "text": [
      "epoch       main/loss   validation/main/loss  main/accuracy  validation/main/accuracy\n",
      "\u001b[J1           1.67609     0.805528              0.46           0.66                      \n",
      "\u001b[J2           0.819584    0.613432              0.67           0.66                      \n",
      "\u001b[J3           0.555794    0.515159              0.74           0.74                      \n",
      "\u001b[J4           0.496598    0.447758              0.76           0.78                      \n",
      "\u001b[J5           0.419513    0.406831              0.93           0.96                      \n",
      "\u001b[J6           0.38604     0.375728              0.92           0.94                      \n",
      "\u001b[J7           0.356966    0.347404              0.89           0.96                      \n",
      "\u001b[J8           0.342536    0.332876              0.92           0.94                      \n",
      "\u001b[J9           0.312202    0.299896              0.93           1                         \n",
      "\u001b[J10          0.289594    0.287598              0.97           0.94                      \n",
      "\u001b[J11          0.284302    0.258191              0.94           1                         \n",
      "\u001b[J12          0.25933     0.245313              0.94           0.94                      \n",
      "\u001b[J13          0.229316    0.221256              0.98           0.98                      \n",
      "\u001b[J14          0.217687    0.22379               0.99           0.94                      \n",
      "\u001b[J15          0.209022    0.191101              0.95           0.98                      \n",
      "\u001b[J16          0.200092    0.180038              0.94           0.96                      \n",
      "\u001b[J17          0.18236     0.171648              0.97           0.96                      \n",
      "\u001b[J18          0.172135    0.169949              0.97           0.96                      \n",
      "\u001b[J19          0.161521    0.149356              0.98           0.96                      \n",
      "\u001b[J20          0.154011    0.14055               0.98           0.96                      \n",
      "\u001b[J21          0.145322    0.137364              0.98           0.96                      \n",
      "\u001b[J22          0.143923    0.126659              0.98           0.96                      \n",
      "\u001b[J23          0.137444    0.13496               0.98           0.96                      \n",
      "\u001b[J24          0.134748    0.114583              0.97           0.96                      \n",
      "\u001b[J25          0.128866    0.11165               0.97           0.96                      \n",
      "\u001b[J26          0.130014    0.113577              0.97           0.96                      \n",
      "\u001b[J27          0.127587    0.104997              0.97           0.96                      \n",
      "\u001b[J28          0.122034    0.101195              0.98           0.96                      \n",
      "\u001b[J29          0.116476    0.108866              0.96           0.96                      \n",
      "\u001b[J30          0.11079     0.0926725             0.98           1                         \n"
     ]
    }
   ],
   "source": [
    "trainer.run()"
   ]
  },
  {
   "cell_type": "code",
   "execution_count": null,
   "metadata": {
    "collapsed": true
   },
   "outputs": [],
   "source": []
  }
 ],
 "metadata": {
  "kernelspec": {
   "display_name": "Python 2",
   "language": "python",
   "name": "python2"
  },
  "language_info": {
   "codemirror_mode": {
    "name": "ipython",
    "version": 2
   },
   "file_extension": ".py",
   "mimetype": "text/x-python",
   "name": "python",
   "nbconvert_exporter": "python",
   "pygments_lexer": "ipython2",
   "version": "2.7.13"
  }
 },
 "nbformat": 4,
 "nbformat_minor": 2
}
