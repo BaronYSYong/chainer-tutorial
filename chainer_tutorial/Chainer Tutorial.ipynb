{
 "cells": [
  {
   "cell_type": "markdown",
   "metadata": {},
   "source": [
    "## Chainer Tutorial\n",
    "\n",
    "Ref: http://docs.chainer.org/en/latest/tutorial/basic.html#"
   ]
  },
  {
   "cell_type": "code",
   "execution_count": 1,
   "metadata": {
    "collapsed": true
   },
   "outputs": [],
   "source": [
    "import numpy as np\n",
    "import chainer\n",
    "from chainer import cuda, Function, gradient_check, report, training, utils, Variable\n",
    "from chainer import datasets, iterators, optimizers, serializers\n",
    "from chainer import Link, Chain, ChainList\n",
    "import chainer.functions as F\n",
    "import chainer.links as L\n",
    "from chainer.training import extensions"
   ]
  },
  {
   "cell_type": "markdown",
   "metadata": {},
   "source": [
    "## Forward/Backward Computation"
   ]
  },
  {
   "cell_type": "code",
   "execution_count": 2,
   "metadata": {
    "collapsed": true
   },
   "outputs": [],
   "source": [
    "x_data = np.array([5], dtype=np.float32)\n",
    "x = Variable(x_data)"
   ]
  },
  {
   "cell_type": "code",
   "execution_count": 3,
   "metadata": {
    "collapsed": true
   },
   "outputs": [],
   "source": [
    "y = x**2 - 2*x + 1"
   ]
  },
  {
   "cell_type": "code",
   "execution_count": 4,
   "metadata": {
    "collapsed": false
   },
   "outputs": [
    {
     "data": {
      "text/plain": [
       "array([ 16.], dtype=float32)"
      ]
     },
     "execution_count": 4,
     "metadata": {},
     "output_type": "execute_result"
    }
   ],
   "source": [
    "y.data"
   ]
  },
  {
   "cell_type": "code",
   "execution_count": 5,
   "metadata": {
    "collapsed": true
   },
   "outputs": [],
   "source": [
    "# runs error backpropagation\n",
    "y.backward()"
   ]
  },
  {
   "cell_type": "code",
   "execution_count": 6,
   "metadata": {
    "collapsed": false
   },
   "outputs": [
    {
     "data": {
      "text/plain": [
       "array([ 8.], dtype=float32)"
      ]
     },
     "execution_count": 6,
     "metadata": {},
     "output_type": "execute_result"
    }
   ],
   "source": [
    "x.grad"
   ]
  },
  {
   "cell_type": "code",
   "execution_count": 7,
   "metadata": {
    "collapsed": false
   },
   "outputs": [
    {
     "data": {
      "text/plain": [
       "array([-1.], dtype=float32)"
      ]
     },
     "execution_count": 7,
     "metadata": {},
     "output_type": "execute_result"
    }
   ],
   "source": [
    "# Gradient of intermediate variable\n",
    "z = 2*x\n",
    "y = x**2 - z + 1\n",
    "y.backward(retain_grad=True)\n",
    "z.grad"
   ]
  },
  {
   "cell_type": "code",
   "execution_count": 8,
   "metadata": {
    "collapsed": false
   },
   "outputs": [
    {
     "data": {
      "text/plain": [
       "array([[  4.,   6.,   8.],\n",
       "       [ 10.,  12.,  14.]], dtype=float32)"
      ]
     },
     "execution_count": 8,
     "metadata": {},
     "output_type": "execute_result"
    }
   ],
   "source": [
    "x = Variable(np.array([[1,2,3],[4,5,6]], dtype=np.float32))\n",
    "y = x**2 + 2*x + 1\n",
    "y.grad = np.ones((2,3), dtype=np.float32)\n",
    "y.backward()\n",
    "x.grad"
   ]
  },
  {
   "cell_type": "markdown",
   "metadata": {},
   "source": [
    "## Links"
   ]
  },
  {
   "cell_type": "code",
   "execution_count": 9,
   "metadata": {
    "collapsed": true
   },
   "outputs": [],
   "source": [
    "f = L.Linear(3,2)"
   ]
  },
  {
   "cell_type": "code",
   "execution_count": 10,
   "metadata": {
    "collapsed": false
   },
   "outputs": [
    {
     "data": {
      "text/plain": [
       "array([[ 0.09941121, -0.78036231,  0.34611559],\n",
       "       [ 0.0280849 ,  0.53641611, -0.10282112]], dtype=float32)"
      ]
     },
     "execution_count": 10,
     "metadata": {},
     "output_type": "execute_result"
    }
   ],
   "source": [
    "f.W.data"
   ]
  },
  {
   "cell_type": "code",
   "execution_count": 11,
   "metadata": {
    "collapsed": false
   },
   "outputs": [
    {
     "data": {
      "text/plain": [
       "array([ 0.,  0.], dtype=float32)"
      ]
     },
     "execution_count": 11,
     "metadata": {},
     "output_type": "execute_result"
    }
   ],
   "source": [
    "f.b.data"
   ]
  },
  {
   "cell_type": "code",
   "execution_count": 12,
   "metadata": {
    "collapsed": false
   },
   "outputs": [
    {
     "data": {
      "text/plain": [
       "array([[-0.4229666 ,  0.79245377],\n",
       "       [-1.42747307,  2.17749357]], dtype=float32)"
      ]
     },
     "execution_count": 12,
     "metadata": {},
     "output_type": "execute_result"
    }
   ],
   "source": [
    "x = Variable(np.array([[1,2,3], [4,5,6]], dtype=np.float32))\n",
    "y = f(x)\n",
    "y.data"
   ]
  },
  {
   "cell_type": "code",
   "execution_count": 13,
   "metadata": {
    "collapsed": true
   },
   "outputs": [],
   "source": [
    "f.cleargrads()"
   ]
  },
  {
   "cell_type": "code",
   "execution_count": 14,
   "metadata": {
    "collapsed": false
   },
   "outputs": [
    {
     "data": {
      "text/plain": [
       "array([[ 5.,  7.,  9.],\n",
       "       [ 5.,  7.,  9.]], dtype=float32)"
      ]
     },
     "execution_count": 14,
     "metadata": {},
     "output_type": "execute_result"
    }
   ],
   "source": [
    "y.grad = np.ones((2,2), dtype=np.float32)\n",
    "y.backward()\n",
    "f.W.grad"
   ]
  },
  {
   "cell_type": "code",
   "execution_count": 15,
   "metadata": {
    "collapsed": false
   },
   "outputs": [
    {
     "data": {
      "text/plain": [
       "array([ 2.,  2.], dtype=float32)"
      ]
     },
     "execution_count": 15,
     "metadata": {},
     "output_type": "execute_result"
    }
   ],
   "source": [
    "f.b.grad"
   ]
  },
  {
   "cell_type": "markdown",
   "metadata": {},
   "source": [
    "## Write a model as a chain"
   ]
  },
  {
   "cell_type": "code",
   "execution_count": 16,
   "metadata": {
    "collapsed": true
   },
   "outputs": [],
   "source": [
    "l1 = L.Linear(4,3)\n",
    "l2 = L.Linear(3,2)\n",
    "def my_forward(x):\n",
    "    h = l1(x)\n",
    "    return l2(h)"
   ]
  },
  {
   "cell_type": "code",
   "execution_count": 17,
   "metadata": {
    "collapsed": true
   },
   "outputs": [],
   "source": [
    "# Write as a class\n",
    "class MyProc(object):\n",
    "    def __init__(self):\n",
    "        self.l1 = L.Linear(4,3)\n",
    "        self.l2 = L.Linear(3,2)\n",
    "    \n",
    "    def foward(self,x):\n",
    "        h = self.l1(x)\n",
    "        return self.l2(h)"
   ]
  },
  {
   "cell_type": "code",
   "execution_count": 18,
   "metadata": {
    "collapsed": false
   },
   "outputs": [],
   "source": [
    "# More reusable, support parameter management, CPU/GPU migration, etc\n",
    "class MyChain(Chain):\n",
    "    def __init__(self):\n",
    "        super(MyChain,self).__init__(\n",
    "            l1=L.Linear(4,3),\n",
    "            l2=L.Linear(3,2)\n",
    "        )\n",
    "    def __call__(self, x):\n",
    "        h = self.l1(x)\n",
    "        return self.l2(h)"
   ]
  },
  {
   "cell_type": "code",
   "execution_count": 19,
   "metadata": {
    "collapsed": true
   },
   "outputs": [],
   "source": [
    "# Another way to define a chain\n",
    "class MyChain2(ChainList):\n",
    "    def __init__(self):\n",
    "        super(MyChain2, self).__init__(\n",
    "            L.Linear(4,3),\n",
    "            L.Linear(3,2)\n",
    "        )\n",
    "    def __call__(self,x):\n",
    "        h = self[0](x)\n",
    "        return self[1](h)"
   ]
  },
  {
   "cell_type": "markdown",
   "metadata": {},
   "source": [
    "## Optimizer"
   ]
  },
  {
   "cell_type": "code",
   "execution_count": 20,
   "metadata": {
    "collapsed": true
   },
   "outputs": [],
   "source": [
    "model = MyChain()\n",
    "optimizer = optimizers.SGD()\n",
    "optimizer.use_cleargrads()\n",
    "optimizer.setup(model)"
   ]
  },
  {
   "cell_type": "code",
   "execution_count": 21,
   "metadata": {
    "collapsed": true
   },
   "outputs": [],
   "source": [
    "optimizer.add_hook(chainer.optimizer.WeightDecay(0.0005))"
   ]
  },
  {
   "cell_type": "markdown",
   "metadata": {},
   "source": [
    "## Trainer"
   ]
  },
  {
   "cell_type": "markdown",
   "metadata": {},
   "source": [
    "## Serializer"
   ]
  },
  {
   "cell_type": "code",
   "execution_count": 22,
   "metadata": {
    "collapsed": false
   },
   "outputs": [],
   "source": [
    "serializers.save_npz('my.model', model)"
   ]
  },
  {
   "cell_type": "code",
   "execution_count": 23,
   "metadata": {
    "collapsed": true
   },
   "outputs": [],
   "source": [
    "serializers.load_npz('my.model', model)"
   ]
  },
  {
   "cell_type": "code",
   "execution_count": 24,
   "metadata": {
    "collapsed": true
   },
   "outputs": [],
   "source": [
    "serializers.save_npz('my.state', optimizer)"
   ]
  },
  {
   "cell_type": "code",
   "execution_count": 25,
   "metadata": {
    "collapsed": true
   },
   "outputs": [],
   "source": [
    "serializers.load_npz('my.state', optimizer)"
   ]
  },
  {
   "cell_type": "markdown",
   "metadata": {},
   "source": [
    "## Example: Multi-layer Perceptron on MNIST"
   ]
  },
  {
   "cell_type": "code",
   "execution_count": 26,
   "metadata": {
    "collapsed": true
   },
   "outputs": [],
   "source": [
    "train, test = datasets.get_mnist()"
   ]
  },
  {
   "cell_type": "code",
   "execution_count": 27,
   "metadata": {
    "collapsed": true
   },
   "outputs": [],
   "source": [
    "train_iter = iterators.SerialIterator(train, batch_size=100, shuffle = True)"
   ]
  },
  {
   "cell_type": "code",
   "execution_count": 28,
   "metadata": {
    "collapsed": true
   },
   "outputs": [],
   "source": [
    "test_iter = iterators.SerialIterator(test, batch_size=100, repeat=False, shuffle=False)"
   ]
  },
  {
   "cell_type": "code",
   "execution_count": 29,
   "metadata": {
    "collapsed": true
   },
   "outputs": [],
   "source": [
    "class MLP(Chain):\n",
    "    def __init__(self, n_units, n_out):\n",
    "        super(MLP, self).__init__(\n",
    "            # the size of the inputs to each layer will be inferred\n",
    "            l1=L.Linear(None, n_units),\n",
    "            l2=L.Linear(None, n_units),\n",
    "            l3=L.Linear(None, n_out),\n",
    "        )\n",
    "        \n",
    "    def __call__(self, x):\n",
    "        h1 = F.relu(self.l1(x))\n",
    "        h2 = F.relu(self.l2(h1))\n",
    "        y = self.l3(h2)\n",
    "        return y"
   ]
  },
  {
   "cell_type": "code",
   "execution_count": 30,
   "metadata": {
    "collapsed": false
   },
   "outputs": [],
   "source": [
    "model = L.Classifier(MLP(100, 10)) # the input size, 784, is inferred\n",
    "optimizer = optimizers.SGD()\n",
    "optimizer.setup(model)"
   ]
  },
  {
   "cell_type": "markdown",
   "metadata": {},
   "source": [
    "## Build a trainier object"
   ]
  },
  {
   "cell_type": "code",
   "execution_count": 31,
   "metadata": {
    "collapsed": true
   },
   "outputs": [],
   "source": [
    "updater = training.StandardUpdater(train_iter, optimizer)\n",
    "trainer = training.Trainer(updater, (20, 'epoch'), out='result')"
   ]
  },
  {
   "cell_type": "code",
   "execution_count": 32,
   "metadata": {
    "collapsed": false
   },
   "outputs": [
    {
     "name": "stdout",
     "output_type": "stream",
     "text": [
      "epoch       main/accuracy  validation/main/accuracy\n",
      "\u001b[J     total [..................................................]  0.83%\n",
      "this epoch [########..........................................] 16.67%\n",
      "       100 iter, 0 epoch / 20 epochs\n",
      "       inf iters/sec. Estimated time to finish: 0:00:00.\n",
      "\u001b[4A\u001b[J     total [..................................................]  1.67%\n",
      "this epoch [################..................................] 33.33%\n",
      "       200 iter, 0 epoch / 20 epochs\n",
      "    207.52 iters/sec. Estimated time to finish: 0:00:56.861384.\n",
      "\u001b[4A\u001b[J     total [#.................................................]  2.50%\n",
      "this epoch [#########################.........................] 50.00%\n",
      "       300 iter, 0 epoch / 20 epochs\n",
      "    205.42 iters/sec. Estimated time to finish: 0:00:56.956418.\n",
      "\u001b[4A\u001b[J     total [#.................................................]  3.33%\n",
      "this epoch [#################################.................] 66.67%\n",
      "       400 iter, 0 epoch / 20 epochs\n",
      "    207.39 iters/sec. Estimated time to finish: 0:00:55.934083.\n",
      "\u001b[4A\u001b[J     total [##................................................]  4.17%\n",
      "this epoch [#########################################.........] 83.33%\n",
      "       500 iter, 0 epoch / 20 epochs\n",
      "    204.82 iters/sec. Estimated time to finish: 0:00:56.147662.\n",
      "\u001b[4A\u001b[J1           0.685683       0.8433                    \n",
      "\u001b[J     total [##................................................]  5.00%\n",
      "this epoch [..................................................]  0.00%\n",
      "       600 iter, 1 epoch / 20 epochs\n",
      "    194.86 iters/sec. Estimated time to finish: 0:00:58.503843.\n",
      "\u001b[4A\u001b[J     total [##................................................]  5.83%\n",
      "this epoch [########..........................................] 16.67%\n",
      "       700 iter, 1 epoch / 20 epochs\n",
      "     200.3 iters/sec. Estimated time to finish: 0:00:56.416060.\n",
      "\u001b[4A\u001b[J     total [###...............................................]  6.67%\n",
      "this epoch [################..................................] 33.33%\n",
      "       800 iter, 1 epoch / 20 epochs\n",
      "    201.75 iters/sec. Estimated time to finish: 0:00:55.514641.\n",
      "\u001b[4A\u001b[J     total [###...............................................]  7.50%\n",
      "this epoch [#########################.........................] 50.00%\n",
      "       900 iter, 1 epoch / 20 epochs\n",
      "    203.31 iters/sec. Estimated time to finish: 0:00:54.596057.\n",
      "\u001b[4A\u001b[J     total [####..............................................]  8.33%\n",
      "this epoch [#################################.................] 66.67%\n",
      "      1000 iter, 1 epoch / 20 epochs\n",
      "    202.43 iters/sec. Estimated time to finish: 0:00:54.340465.\n",
      "\u001b[4A\u001b[J     total [####..............................................]  9.17%\n",
      "this epoch [#########################################.........] 83.33%\n",
      "      1100 iter, 1 epoch / 20 epochs\n",
      "    205.51 iters/sec. Estimated time to finish: 0:00:53.039846.\n",
      "\u001b[4A\u001b[J2           0.868017       0.892                     \n",
      "\u001b[J     total [#####.............................................] 10.00%\n",
      "this epoch [..................................................]  0.00%\n",
      "      1200 iter, 2 epoch / 20 epochs\n",
      "    200.02 iters/sec. Estimated time to finish: 0:00:53.995023.\n",
      "\u001b[4A\u001b[J     total [#####.............................................] 10.83%\n",
      "this epoch [########..........................................] 16.67%\n",
      "      1300 iter, 2 epoch / 20 epochs\n",
      "    202.24 iters/sec. Estimated time to finish: 0:00:52.906417.\n",
      "\u001b[4A\u001b[J     total [#####.............................................] 11.67%\n",
      "this epoch [################..................................] 33.33%\n",
      "      1400 iter, 2 epoch / 20 epochs\n",
      "    204.42 iters/sec. Estimated time to finish: 0:00:51.854662.\n",
      "\u001b[4A\u001b[J     total [######............................................] 12.50%\n",
      "this epoch [#########################.........................] 50.00%\n",
      "      1500 iter, 2 epoch / 20 epochs\n",
      "    206.62 iters/sec. Estimated time to finish: 0:00:50.818748.\n",
      "\u001b[4A\u001b[J     total [######............................................] 13.33%\n",
      "this epoch [#################################.................] 66.67%\n",
      "      1600 iter, 2 epoch / 20 epochs\n",
      "    209.72 iters/sec. Estimated time to finish: 0:00:49.590709.\n",
      "\u001b[4A\u001b[J     total [#######...........................................] 14.17%\n",
      "this epoch [#########################################.........] 83.33%\n",
      "      1700 iter, 2 epoch / 20 epochs\n",
      "    212.75 iters/sec. Estimated time to finish: 0:00:48.414571.\n",
      "\u001b[4A\u001b[J3           0.892967       0.9022                    \n",
      "\u001b[J     total [#######...........................................] 15.00%\n",
      "this epoch [..................................................]  0.00%\n",
      "      1800 iter, 3 epoch / 20 epochs\n",
      "    209.74 iters/sec. Estimated time to finish: 0:00:48.630984.\n",
      "\u001b[4A\u001b[J     total [#######...........................................] 15.83%\n",
      "this epoch [########..........................................] 16.67%\n",
      "      1900 iter, 3 epoch / 20 epochs\n",
      "    211.49 iters/sec. Estimated time to finish: 0:00:47.755527.\n",
      "\u001b[4A\u001b[J     total [########..........................................] 16.67%\n",
      "this epoch [################..................................] 33.33%\n",
      "      2000 iter, 3 epoch / 20 epochs\n",
      "    214.17 iters/sec. Estimated time to finish: 0:00:46.692647.\n",
      "\u001b[4A\u001b[J     total [########..........................................] 17.50%\n",
      "this epoch [#########################.........................] 50.00%\n",
      "      2100 iter, 3 epoch / 20 epochs\n",
      "     216.3 iters/sec. Estimated time to finish: 0:00:45.768977.\n",
      "\u001b[4A\u001b[J     total [#########.........................................] 18.33%\n",
      "this epoch [#################################.................] 66.67%\n",
      "      2200 iter, 3 epoch / 20 epochs\n",
      "    218.49 iters/sec. Estimated time to finish: 0:00:44.852873.\n",
      "\u001b[4A\u001b[J     total [#########.........................................] 19.17%\n",
      "this epoch [#########################################.........] 83.33%\n",
      "      2300 iter, 3 epoch / 20 epochs\n",
      "    220.63 iters/sec. Estimated time to finish: 0:00:43.964144.\n",
      "\u001b[4A\u001b[J4           0.903433       0.9103                    \n",
      "\u001b[J     total [##########........................................] 20.00%\n",
      "this epoch [..................................................]  0.00%\n",
      "      2400 iter, 4 epoch / 20 epochs\n",
      "    217.71 iters/sec. Estimated time to finish: 0:00:44.095413.\n",
      "\u001b[4A\u001b[J     total [##########........................................] 20.83%\n",
      "this epoch [########..........................................] 16.67%\n",
      "      2500 iter, 4 epoch / 20 epochs\n",
      "    219.12 iters/sec. Estimated time to finish: 0:00:43.354350.\n",
      "\u001b[4A\u001b[J     total [##########........................................] 21.67%\n",
      "this epoch [################..................................] 33.33%\n",
      "      2600 iter, 4 epoch / 20 epochs\n",
      "     220.9 iters/sec. Estimated time to finish: 0:00:42.552428.\n",
      "\u001b[4A\u001b[J     total [###########.......................................] 22.50%\n",
      "this epoch [#########################.........................] 50.00%\n",
      "      2700 iter, 4 epoch / 20 epochs\n",
      "    222.41 iters/sec. Estimated time to finish: 0:00:41.815512.\n",
      "\u001b[4A\u001b[J     total [###########.......................................] 23.33%\n",
      "this epoch [#################################.................] 66.67%\n",
      "      2800 iter, 4 epoch / 20 epochs\n",
      "    223.36 iters/sec. Estimated time to finish: 0:00:41.188550.\n",
      "\u001b[4A\u001b[J     total [############......................................] 24.17%\n",
      "this epoch [#########################################.........] 83.33%\n",
      "      2900 iter, 4 epoch / 20 epochs\n",
      "    224.54 iters/sec. Estimated time to finish: 0:00:40.526948.\n",
      "\u001b[4A\u001b[J5           0.910633       0.9178                    \n",
      "\u001b[J     total [############......................................] 25.00%\n",
      "this epoch [..................................................]  0.00%\n",
      "      3000 iter, 5 epoch / 20 epochs\n",
      "    221.45 iters/sec. Estimated time to finish: 0:00:40.640763.\n",
      "\u001b[4A\u001b[J     total [############......................................] 25.83%\n",
      "this epoch [########..........................................] 16.67%\n",
      "      3100 iter, 5 epoch / 20 epochs\n",
      "    222.52 iters/sec. Estimated time to finish: 0:00:39.996499.\n",
      "\u001b[4A\u001b[J     total [#############.....................................] 26.67%\n",
      "this epoch [################..................................] 33.33%\n",
      "      3200 iter, 5 epoch / 20 epochs\n",
      "    223.95 iters/sec. Estimated time to finish: 0:00:39.295035.\n",
      "\u001b[4A\u001b[J     total [#############.....................................] 27.50%\n",
      "this epoch [#########################.........................] 50.00%\n",
      "      3300 iter, 5 epoch / 20 epochs\n",
      "    224.87 iters/sec. Estimated time to finish: 0:00:38.689702.\n",
      "\u001b[4A\u001b[J     total [##############....................................] 28.33%\n",
      "this epoch [#################################.................] 66.67%\n",
      "      3400 iter, 5 epoch / 20 epochs\n",
      "    225.41 iters/sec. Estimated time to finish: 0:00:38.152073.\n",
      "\u001b[4A\u001b[J     total [##############....................................] 29.17%\n",
      "this epoch [#########################################.........] 83.33%\n",
      "      3500 iter, 5 epoch / 20 epochs\n",
      "    226.45 iters/sec. Estimated time to finish: 0:00:37.535943.\n",
      "\u001b[4A\u001b[J6           0.916433       0.9226                    \n",
      "\u001b[J     total [###############...................................] 30.00%\n",
      "this epoch [..................................................]  0.00%\n",
      "      3600 iter, 6 epoch / 20 epochs\n",
      "    223.55 iters/sec. Estimated time to finish: 0:00:37.575998.\n",
      "\u001b[4A\u001b[J     total [###############...................................] 30.83%\n",
      "this epoch [########..........................................] 16.67%\n",
      "      3700 iter, 6 epoch / 20 epochs\n",
      "     224.6 iters/sec. Estimated time to finish: 0:00:36.953940.\n",
      "\u001b[4A\u001b[J     total [###############...................................] 31.67%\n",
      "this epoch [################..................................] 33.33%\n",
      "      3800 iter, 6 epoch / 20 epochs\n",
      "    225.41 iters/sec. Estimated time to finish: 0:00:36.377979.\n",
      "\u001b[4A\u001b[J     total [################..................................] 32.50%\n",
      "this epoch [#########################.........................] 50.00%\n",
      "      3900 iter, 6 epoch / 20 epochs\n",
      "    225.98 iters/sec. Estimated time to finish: 0:00:35.843206.\n",
      "\u001b[4A\u001b[J     total [################..................................] 33.33%\n",
      "this epoch [#################################.................] 66.67%\n",
      "      4000 iter, 6 epoch / 20 epochs\n",
      "    226.88 iters/sec. Estimated time to finish: 0:00:35.261202.\n",
      "\u001b[4A\u001b[J     total [#################.................................] 34.17%\n",
      "this epoch [#########################################.........] 83.33%\n",
      "      4100 iter, 6 epoch / 20 epochs\n",
      "    227.56 iters/sec. Estimated time to finish: 0:00:34.715561.\n",
      "\u001b[4A\u001b[J7           0.9211         0.9259                    \n",
      "\u001b[J     total [#################.................................] 35.00%\n",
      "this epoch [..................................................]  0.00%\n",
      "      4200 iter, 7 epoch / 20 epochs\n",
      "    225.68 iters/sec. Estimated time to finish: 0:00:34.562576.\n",
      "\u001b[4A\u001b[J     total [#################.................................] 35.83%\n",
      "this epoch [########..........................................] 16.67%\n",
      "      4300 iter, 7 epoch / 20 epochs\n",
      "     226.5 iters/sec. Estimated time to finish: 0:00:33.995106.\n",
      "\u001b[4A\u001b[J     total [##################................................] 36.67%\n",
      "this epoch [################..................................] 33.33%\n",
      "      4400 iter, 7 epoch / 20 epochs\n",
      "    227.22 iters/sec. Estimated time to finish: 0:00:33.448461.\n",
      "\u001b[4A\u001b[J     total [##################................................] 37.50%\n",
      "this epoch [#########################.........................] 50.00%\n",
      "      4500 iter, 7 epoch / 20 epochs\n",
      "    227.87 iters/sec. Estimated time to finish: 0:00:32.913738.\n",
      "\u001b[4A\u001b[J     total [###################...............................] 38.33%\n",
      "this epoch [#################################.................] 66.67%\n",
      "      4600 iter, 7 epoch / 20 epochs\n",
      "    227.61 iters/sec. Estimated time to finish: 0:00:32.512311.\n",
      "\u001b[4A\u001b[J     total [###################...............................] 39.17%\n",
      "this epoch [#########################################.........] 83.33%\n",
      "      4700 iter, 7 epoch / 20 epochs\n",
      "    227.89 iters/sec. Estimated time to finish: 0:00:32.032746.\n",
      "\u001b[4A\u001b[J8           0.925133       0.9293                    \n",
      "\u001b[J     total [####################..............................] 40.00%\n",
      "this epoch [..................................................]  0.00%\n",
      "      4800 iter, 8 epoch / 20 epochs\n",
      "    225.92 iters/sec. Estimated time to finish: 0:00:31.869928.\n",
      "\u001b[4A\u001b[J     total [####################..............................] 40.83%\n",
      "this epoch [########..........................................] 16.67%\n",
      "      4900 iter, 8 epoch / 20 epochs\n",
      "    226.34 iters/sec. Estimated time to finish: 0:00:31.368646.\n",
      "\u001b[4A\u001b[J     total [####################..............................] 41.67%\n",
      "this epoch [################..................................] 33.33%\n",
      "      5000 iter, 8 epoch / 20 epochs\n",
      "    227.06 iters/sec. Estimated time to finish: 0:00:30.828703.\n",
      "\u001b[4A\u001b[J     total [#####################.............................] 42.50%\n",
      "this epoch [#########################.........................] 50.00%\n",
      "      5100 iter, 8 epoch / 20 epochs\n",
      "    227.74 iters/sec. Estimated time to finish: 0:00:30.298270.\n",
      "\u001b[4A\u001b[J     total [#####################.............................] 43.33%\n",
      "this epoch [#################################.................] 66.67%\n",
      "      5200 iter, 8 epoch / 20 epochs\n",
      "    228.53 iters/sec. Estimated time to finish: 0:00:29.754807.\n",
      "\u001b[4A\u001b[J     total [######################............................] 44.17%\n",
      "this epoch [#########################################.........] 83.33%\n",
      "      5300 iter, 8 epoch / 20 epochs\n",
      "    229.01 iters/sec. Estimated time to finish: 0:00:29.256726.\n",
      "\u001b[4A\u001b[J9           0.928567       0.932                     \n",
      "\u001b[J     total [######################............................] 45.00%\n",
      "this epoch [..................................................]  0.00%\n",
      "      5400 iter, 9 epoch / 20 epochs\n",
      "    225.53 iters/sec. Estimated time to finish: 0:00:29.263792.\n",
      "\u001b[4A\u001b[J     total [######################............................] 45.83%\n",
      "this epoch [########..........................................] 16.67%\n",
      "      5500 iter, 9 epoch / 20 epochs\n",
      "    225.88 iters/sec. Estimated time to finish: 0:00:28.775985.\n",
      "\u001b[4A\u001b[J     total [#######################...........................] 46.67%\n",
      "this epoch [################..................................] 33.33%\n",
      "      5600 iter, 9 epoch / 20 epochs\n",
      "     226.6 iters/sec. Estimated time to finish: 0:00:28.244165.\n",
      "\u001b[4A\u001b[J     total [#######################...........................] 47.50%\n",
      "this epoch [#########################.........................] 50.00%\n",
      "      5700 iter, 9 epoch / 20 epochs\n",
      "    227.24 iters/sec. Estimated time to finish: 0:00:27.723906.\n",
      "\u001b[4A\u001b[J     total [########################..........................] 48.33%\n",
      "this epoch [#################################.................] 66.67%\n",
      "      5800 iter, 9 epoch / 20 epochs\n",
      "    227.95 iters/sec. Estimated time to finish: 0:00:27.199116.\n",
      "\u001b[4A\u001b[J     total [########################..........................] 49.17%\n",
      "this epoch [#########################################.........] 83.33%\n",
      "      5900 iter, 9 epoch / 20 epochs\n",
      "    228.55 iters/sec. Estimated time to finish: 0:00:26.690322.\n",
      "\u001b[4A\u001b[J10          0.931833       0.9352                    \n",
      "\u001b[J     total [#########################.........................] 50.00%\n",
      "this epoch [..................................................]  0.00%\n",
      "      6000 iter, 10 epoch / 20 epochs\n",
      "    227.13 iters/sec. Estimated time to finish: 0:00:26.416051.\n",
      "\u001b[4A\u001b[J     total [#########################.........................] 50.83%\n",
      "this epoch [########..........................................] 16.67%\n",
      "      6100 iter, 10 epoch / 20 epochs\n",
      "     227.3 iters/sec. Estimated time to finish: 0:00:25.957051.\n",
      "\u001b[4A\u001b[J     total [#########################.........................] 51.67%\n",
      "this epoch [################..................................] 33.33%\n",
      "      6200 iter, 10 epoch / 20 epochs\n",
      "    226.95 iters/sec. Estimated time to finish: 0:00:25.555999.\n",
      "\u001b[4A\u001b[J     total [##########################........................] 52.50%\n",
      "this epoch [#########################.........................] 50.00%\n",
      "      6300 iter, 10 epoch / 20 epochs\n",
      "    226.32 iters/sec. Estimated time to finish: 0:00:25.185280.\n",
      "\u001b[4A\u001b[J     total [##########################........................] 53.33%\n",
      "this epoch [#################################.................] 66.67%\n",
      "      6400 iter, 10 epoch / 20 epochs\n",
      "     226.2 iters/sec. Estimated time to finish: 0:00:24.756688.\n",
      "\u001b[4A\u001b[J     total [###########################.......................] 54.17%\n",
      "this epoch [#########################################.........] 83.33%\n",
      "      6500 iter, 10 epoch / 20 epochs\n",
      "    226.54 iters/sec. Estimated time to finish: 0:00:24.278631.\n",
      "\u001b[4A\u001b[J11          0.935283       0.9368                    \n",
      "\u001b[J     total [###########################.......................] 55.00%\n",
      "this epoch [..................................................]  0.00%\n",
      "      6600 iter, 11 epoch / 20 epochs\n",
      "    225.08 iters/sec. Estimated time to finish: 0:00:23.991944.\n",
      "\u001b[4A\u001b[J     total [###########################.......................] 55.83%\n",
      "this epoch [########..........................................] 16.67%\n",
      "      6700 iter, 11 epoch / 20 epochs\n",
      "    225.46 iters/sec. Estimated time to finish: 0:00:23.507267.\n",
      "\u001b[4A\u001b[J     total [############################......................] 56.67%\n",
      "this epoch [################..................................] 33.33%\n",
      "      6800 iter, 11 epoch / 20 epochs\n",
      "    225.37 iters/sec. Estimated time to finish: 0:00:23.073570.\n",
      "\u001b[4A\u001b[J     total [############################......................] 57.50%\n",
      "this epoch [#########################.........................] 50.00%\n",
      "      6900 iter, 11 epoch / 20 epochs\n",
      "     225.9 iters/sec. Estimated time to finish: 0:00:22.575998.\n",
      "\u001b[4A\u001b[J     total [#############################.....................] 58.33%\n",
      "this epoch [#################################.................] 66.67%\n",
      "      7000 iter, 11 epoch / 20 epochs\n",
      "    226.35 iters/sec. Estimated time to finish: 0:00:22.089967.\n",
      "\u001b[4A\u001b[J     total [#############################.....................] 59.17%\n",
      "this epoch [#########################################.........] 83.33%\n",
      "      7100 iter, 11 epoch / 20 epochs\n",
      "    226.34 iters/sec. Estimated time to finish: 0:00:21.648943.\n",
      "\u001b[4A\u001b[J12          0.937583       0.9375                    \n",
      "\u001b[J     total [##############################....................] 60.00%\n",
      "this epoch [..................................................]  0.00%\n",
      "      7200 iter, 12 epoch / 20 epochs\n",
      "    224.31 iters/sec. Estimated time to finish: 0:00:21.398670.\n",
      "\u001b[4A\u001b[J     total [##############################....................] 60.83%\n",
      "this epoch [########..........................................] 16.67%\n",
      "      7300 iter, 12 epoch / 20 epochs\n",
      "    224.15 iters/sec. Estimated time to finish: 0:00:20.968283.\n",
      "\u001b[4A\u001b[J     total [##############################....................] 61.67%\n",
      "this epoch [################..................................] 33.33%\n",
      "      7400 iter, 12 epoch / 20 epochs\n",
      "    223.23 iters/sec. Estimated time to finish: 0:00:20.606497.\n",
      "\u001b[4A\u001b[J     total [###############################...................] 62.50%\n",
      "this epoch [#########################.........................] 50.00%\n",
      "      7500 iter, 12 epoch / 20 epochs\n",
      "    221.69 iters/sec. Estimated time to finish: 0:00:20.298331.\n",
      "\u001b[4A\u001b[J     total [###############################...................] 63.33%\n",
      "this epoch [#################################.................] 66.67%\n",
      "      7600 iter, 12 epoch / 20 epochs\n",
      "     220.6 iters/sec. Estimated time to finish: 0:00:19.945189.\n",
      "\u001b[4A\u001b[J     total [################################..................] 64.17%\n",
      "this epoch [#########################################.........] 83.33%\n",
      "      7700 iter, 12 epoch / 20 epochs\n",
      "    220.44 iters/sec. Estimated time to finish: 0:00:19.506228.\n",
      "\u001b[4A\u001b[J13          0.9405         0.9391                    \n",
      "\u001b[J     total [################################..................] 65.00%\n",
      "this epoch [..................................................]  0.00%\n",
      "      7800 iter, 13 epoch / 20 epochs\n",
      "    218.46 iters/sec. Estimated time to finish: 0:00:19.225324.\n",
      "\u001b[4A\u001b[J     total [################################..................] 65.83%\n",
      "this epoch [########..........................................] 16.67%\n",
      "      7900 iter, 13 epoch / 20 epochs\n",
      "    218.61 iters/sec. Estimated time to finish: 0:00:18.754535.\n",
      "\u001b[4A\u001b[J     total [#################################.................] 66.67%\n",
      "this epoch [################..................................] 33.33%\n",
      "      8000 iter, 13 epoch / 20 epochs\n",
      "     218.7 iters/sec. Estimated time to finish: 0:00:18.290016.\n",
      "\u001b[4A\u001b[J     total [#################################.................] 67.50%\n",
      "this epoch [#########################.........................] 50.00%\n",
      "      8100 iter, 13 epoch / 20 epochs\n",
      "    218.67 iters/sec. Estimated time to finish: 0:00:17.835305.\n",
      "\u001b[4A\u001b[J     total [##################################................] 68.33%\n",
      "this epoch [#################################.................] 66.67%\n",
      "      8200 iter, 13 epoch / 20 epochs\n",
      "    218.93 iters/sec. Estimated time to finish: 0:00:17.357363.\n",
      "\u001b[4A\u001b[J     total [##################################................] 69.17%\n",
      "this epoch [#########################################.........] 83.33%\n",
      "      8300 iter, 13 epoch / 20 epochs\n",
      "     219.2 iters/sec. Estimated time to finish: 0:00:16.879295.\n",
      "\u001b[4A\u001b[J14          0.9428         0.9427                    \n",
      "\u001b[J     total [###################################...............] 70.00%\n",
      "this epoch [..................................................]  0.00%\n",
      "      8400 iter, 14 epoch / 20 epochs\n",
      "    218.06 iters/sec. Estimated time to finish: 0:00:16.509502.\n",
      "\u001b[4A\u001b[J     total [###################################...............] 70.83%\n",
      "this epoch [########..........................................] 16.67%\n",
      "      8500 iter, 14 epoch / 20 epochs\n",
      "     218.3 iters/sec. Estimated time to finish: 0:00:16.032910.\n",
      "\u001b[4A\u001b[J     total [###################################...............] 71.67%\n",
      "this epoch [################..................................] 33.33%\n",
      "      8600 iter, 14 epoch / 20 epochs\n",
      "    218.64 iters/sec. Estimated time to finish: 0:00:15.550322.\n",
      "\u001b[4A\u001b[J     total [####################################..............] 72.50%\n",
      "this epoch [#########################.........................] 50.00%\n",
      "      8700 iter, 14 epoch / 20 epochs\n",
      "    218.97 iters/sec. Estimated time to finish: 0:00:15.070567.\n",
      "\u001b[4A\u001b[J     total [####################################..............] 73.33%\n",
      "this epoch [#################################.................] 66.67%\n",
      "      8800 iter, 14 epoch / 20 epochs\n",
      "    219.32 iters/sec. Estimated time to finish: 0:00:14.590862.\n",
      "\u001b[4A\u001b[J     total [#####################################.............] 74.17%\n",
      "this epoch [#########################################.........] 83.33%\n",
      "      8900 iter, 14 epoch / 20 epochs\n",
      "    219.68 iters/sec. Estimated time to finish: 0:00:14.111540.\n",
      "\u001b[4A\u001b[J15          0.94445        0.9455                    \n",
      "\u001b[J     total [#####################################.............] 75.00%\n",
      "this epoch [..................................................]  0.00%\n",
      "      9000 iter, 15 epoch / 20 epochs\n",
      "    218.44 iters/sec. Estimated time to finish: 0:00:13.733962.\n",
      "\u001b[4A\u001b[J     total [#####################################.............] 75.83%\n",
      "this epoch [########..........................................] 16.67%\n",
      "      9100 iter, 15 epoch / 20 epochs\n",
      "    218.59 iters/sec. Estimated time to finish: 0:00:13.266936.\n",
      "\u001b[4A\u001b[J     total [######################################............] 76.67%\n",
      "this epoch [################..................................] 33.33%\n",
      "      9200 iter, 15 epoch / 20 epochs\n",
      "    218.92 iters/sec. Estimated time to finish: 0:00:12.790332.\n",
      "\u001b[4A\u001b[J     total [######################################............] 77.50%\n",
      "this epoch [#########################.........................] 50.00%\n",
      "      9300 iter, 15 epoch / 20 epochs\n",
      "    219.06 iters/sec. Estimated time to finish: 0:00:12.325242.\n",
      "\u001b[4A\u001b[J     total [#######################################...........] 78.33%\n",
      "this epoch [#################################.................] 66.67%\n",
      "      9400 iter, 15 epoch / 20 epochs\n",
      "    219.27 iters/sec. Estimated time to finish: 0:00:11.857597.\n",
      "\u001b[4A\u001b[J     total [#######################################...........] 79.17%\n",
      "this epoch [#########################################.........] 83.33%\n",
      "      9500 iter, 15 epoch / 20 epochs\n",
      "    219.46 iters/sec. Estimated time to finish: 0:00:11.391410.\n",
      "\u001b[4A\u001b[J16          0.946633       0.9462                    \n",
      "\u001b[J     total [########################################..........] 80.00%\n",
      "this epoch [..................................................]  0.00%\n",
      "      9600 iter, 16 epoch / 20 epochs\n",
      "    218.25 iters/sec. Estimated time to finish: 0:00:10.996618.\n",
      "\u001b[4A\u001b[J     total [########################################..........] 80.83%\n",
      "this epoch [########..........................................] 16.67%\n",
      "      9700 iter, 16 epoch / 20 epochs\n",
      "    218.36 iters/sec. Estimated time to finish: 0:00:10.533143.\n",
      "\u001b[4A\u001b[J     total [########################################..........] 81.67%\n",
      "this epoch [################..................................] 33.33%\n",
      "      9800 iter, 16 epoch / 20 epochs\n",
      "    218.65 iters/sec. Estimated time to finish: 0:00:10.061911.\n",
      "\u001b[4A\u001b[J     total [#########################################.........] 82.50%\n",
      "this epoch [#########################.........................] 50.00%\n",
      "      9900 iter, 16 epoch / 20 epochs\n",
      "    218.69 iters/sec. Estimated time to finish: 0:00:09.602574.\n",
      "\u001b[4A\u001b[J     total [#########################################.........] 83.33%\n",
      "this epoch [#################################.................] 66.67%\n",
      "     10000 iter, 16 epoch / 20 epochs\n",
      "     218.8 iters/sec. Estimated time to finish: 0:00:09.140564.\n",
      "\u001b[4A\u001b[J     total [##########################################........] 84.17%\n",
      "this epoch [#########################################.........] 83.33%\n",
      "     10100 iter, 16 epoch / 20 epochs\n",
      "    218.86 iters/sec. Estimated time to finish: 0:00:08.681235.\n",
      "\u001b[4A\u001b[J17          0.948367       0.9476                    \n",
      "\u001b[J     total [##########################################........] 85.00%\n",
      "this epoch [..................................................]  0.00%\n",
      "     10200 iter, 17 epoch / 20 epochs\n",
      "    217.88 iters/sec. Estimated time to finish: 0:00:08.261365.\n",
      "\u001b[4A\u001b[J     total [##########################################........] 85.83%\n",
      "this epoch [########..........................................] 16.67%\n",
      "     10300 iter, 17 epoch / 20 epochs\n",
      "    218.17 iters/sec. Estimated time to finish: 0:00:07.792184.\n",
      "\u001b[4A\u001b[J     total [###########################################.......] 86.67%\n",
      "this epoch [################..................................] 33.33%\n",
      "     10400 iter, 17 epoch / 20 epochs\n",
      "    218.43 iters/sec. Estimated time to finish: 0:00:07.325001.\n",
      "\u001b[4A\u001b[J     total [###########################################.......] 87.50%\n",
      "this epoch [#########################.........................] 50.00%\n",
      "     10500 iter, 17 epoch / 20 epochs\n",
      "    218.21 iters/sec. Estimated time to finish: 0:00:06.874070.\n",
      "\u001b[4A\u001b[J     total [############################################......] 88.33%\n",
      "this epoch [#################################.................] 66.67%\n",
      "     10600 iter, 17 epoch / 20 epochs\n",
      "    219.07 iters/sec. Estimated time to finish: 0:00:06.390684.\n",
      "\u001b[4A\u001b[J     total [############################################......] 89.17%\n",
      "this epoch [#########################################.........] 83.33%\n",
      "     10700 iter, 17 epoch / 20 epochs\n",
      "    218.76 iters/sec. Estimated time to finish: 0:00:05.942655.\n",
      "\u001b[4A\u001b[J18          0.949667       0.9488                    \n",
      "\u001b[J     total [#############################################.....] 90.00%\n",
      "this epoch [..................................................]  0.00%\n",
      "     10800 iter, 18 epoch / 20 epochs\n",
      "    217.17 iters/sec. Estimated time to finish: 0:00:05.525626.\n",
      "\u001b[4A\u001b[J     total [#############################################.....] 90.83%\n",
      "this epoch [########..........................................] 16.67%\n",
      "     10900 iter, 18 epoch / 20 epochs\n",
      "    217.45 iters/sec. Estimated time to finish: 0:00:05.058704.\n",
      "\u001b[4A\u001b[J     total [#############################################.....] 91.67%\n",
      "this epoch [################..................................] 33.33%\n",
      "     11000 iter, 18 epoch / 20 epochs\n",
      "    217.76 iters/sec. Estimated time to finish: 0:00:04.592132.\n",
      "\u001b[4A\u001b[J     total [##############################################....] 92.50%\n",
      "this epoch [#########################.........................] 50.00%\n",
      "     11100 iter, 18 epoch / 20 epochs\n",
      "    217.71 iters/sec. Estimated time to finish: 0:00:04.133922.\n",
      "\u001b[4A\u001b[J     total [##############################################....] 93.33%\n",
      "this epoch [#################################.................] 66.67%\n",
      "     11200 iter, 18 epoch / 20 epochs\n",
      "    218.75 iters/sec. Estimated time to finish: 0:00:03.657103.\n",
      "\u001b[4A\u001b[J     total [###############################################...] 94.17%\n",
      "this epoch [#########################################.........] 83.33%\n",
      "     11300 iter, 18 epoch / 20 epochs\n",
      "    218.85 iters/sec. Estimated time to finish: 0:00:03.198510.\n",
      "\u001b[4A\u001b[J19          0.951667       0.9505                    \n",
      "\u001b[J     total [###############################################...] 95.00%\n",
      "this epoch [..................................................]  0.00%\n",
      "     11400 iter, 19 epoch / 20 epochs\n",
      "     217.8 iters/sec. Estimated time to finish: 0:00:02.754836.\n",
      "\u001b[4A\u001b[J     total [###############################################...] 95.83%\n",
      "this epoch [########..........................................] 16.67%\n",
      "     11500 iter, 19 epoch / 20 epochs\n",
      "    217.62 iters/sec. Estimated time to finish: 0:00:02.297554.\n",
      "\u001b[4A\u001b[J     total [################################################..] 96.67%\n",
      "this epoch [################..................................] 33.33%\n",
      "     11600 iter, 19 epoch / 20 epochs\n",
      "    217.49 iters/sec. Estimated time to finish: 0:00:01.839165.\n",
      "\u001b[4A\u001b[J     total [################################################..] 97.50%\n",
      "this epoch [#########################.........................] 50.00%\n",
      "     11700 iter, 19 epoch / 20 epochs\n",
      "    217.25 iters/sec. Estimated time to finish: 0:00:01.380913.\n",
      "\u001b[4A\u001b[J     total [#################################################.] 98.33%\n",
      "this epoch [#################################.................] 66.67%\n",
      "     11800 iter, 19 epoch / 20 epochs\n",
      "    218.11 iters/sec. Estimated time to finish: 0:00:00.916990.\n",
      "\u001b[4A\u001b[J     total [#################################################.] 99.17%\n",
      "this epoch [#########################################.........] 83.33%\n",
      "     11900 iter, 19 epoch / 20 epochs\n",
      "    218.05 iters/sec. Estimated time to finish: 0:00:00.458604.\n",
      "\u001b[4A\u001b[J20          0.9536         0.952                     \n",
      "\u001b[J     total [##################################################] 100.00%\n",
      "this epoch [..................................................]  0.00%\n",
      "     12000 iter, 20 epoch / 20 epochs\n",
      "    216.49 iters/sec. Estimated time to finish: 0:00:00.\n",
      "\u001b[4A\u001b[J"
     ]
    }
   ],
   "source": [
    "trainer.extend(extensions.Evaluator(test_iter, model))\n",
    "trainer.extend(extensions.LogReport())\n",
    "trainer.extend(extensions.PrintReport(['epoch', 'main/accuracy', 'validation/main/accuracy']))\n",
    "trainer.extend(extensions.ProgressBar())\n",
    "trainer.run()"
   ]
  }
 ],
 "metadata": {
  "kernelspec": {
   "display_name": "Python 2",
   "language": "python",
   "name": "python2"
  },
  "language_info": {
   "codemirror_mode": {
    "name": "ipython",
    "version": 2
   },
   "file_extension": ".py",
   "mimetype": "text/x-python",
   "name": "python",
   "nbconvert_exporter": "python",
   "pygments_lexer": "ipython2",
   "version": "2.7.13"
  }
 },
 "nbformat": 4,
 "nbformat_minor": 2
}
